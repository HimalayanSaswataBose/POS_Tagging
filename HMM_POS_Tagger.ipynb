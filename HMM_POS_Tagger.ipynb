{
  "cells": [
    {
      "cell_type": "markdown",
      "metadata": {
        "id": "view-in-github",
        "colab_type": "text"
      },
      "source": [
        "<a href=\"https://colab.research.google.com/github/HimalayanSaswataBose/POS_Tagging/blob/main/HMM_POS_Tagger.ipynb\" target=\"_parent\"><img src=\"https://colab.research.google.com/assets/colab-badge.svg\" alt=\"Open In Colab\"/></a>"
      ]
    },
    {
      "cell_type": "code",
      "execution_count": null,
      "metadata": {
        "id": "wIqEzO32Zity"
      },
      "outputs": [],
      "source": [
        "import random\n",
        "import numpy as np\n",
        "import pandas as pd\n",
        "import pprint, time"
      ]
    },
    {
      "cell_type": "markdown",
      "metadata": {
        "id": "ym3ihhFFZwIq"
      },
      "source": [
        "Read data"
      ]
    },
    {
      "cell_type": "markdown",
      "source": [],
      "metadata": {
        "id": "fiFHwKZpvOpS"
      }
    },
    {
      "cell_type": "code",
      "source": [
        "test_tagged_words = []\n",
        "with open(\"test.txt\", mode = \"r\") as f:\n",
        "  g = f.read()\n",
        "  k = g.split('\\n')\n",
        "  for i in k:\n",
        "    t = i.split('\\t')\n",
        "    if t[0] != '':\n",
        "      test_tagged_words.append(t)\n",
        "print(test_tagged_words)\n",
        "print(len(test_tagged_words))\n"
      ],
      "metadata": {
        "id": "zgd9Hoe5BZBp"
      },
      "execution_count": null,
      "outputs": []
    },
    {
      "cell_type": "code",
      "source": [
        "train_tagged_words = []\n",
        "with open(\"train.txt\", mode = \"r\") as f:\n",
        "  g = f.read()\n",
        "  k = g.split('\\n')\n",
        "  for i in k:\n",
        "    t = i.split('\\t')\n",
        "    if t[0] != '':\n",
        "      train_tagged_words.append(t)\n",
        "print(train_tagged_words)\n",
        "print(len(train_tagged_words))\n"
      ],
      "metadata": {
        "id": "lGhK1f-pGCHj"
      },
      "execution_count": null,
      "outputs": []
    },
    {
      "cell_type": "code",
      "execution_count": null,
      "metadata": {
        "id": "Yk8Jzw7waAZ9"
      },
      "outputs": [],
      "source": [
        "print(\"Length of Train sent and test set:\")\n",
        "print(len(train_tagged_words))\n",
        "print(len(test_tagged_words))"
      ]
    },
    {
      "cell_type": "code",
      "execution_count": null,
      "metadata": {
        "id": "pD69S_i7aBni"
      },
      "outputs": [],
      "source": [
        "# print some of the tagged words.\n",
        "print(train_tagged_words[:10])\n",
        "print(test_tagged_words[:10])"
      ]
    },
    {
      "cell_type": "code",
      "execution_count": null,
      "metadata": {
        "id": "RYdrNwn0aCq3"
      },
      "outputs": [],
      "source": [
        "#use set datatype to check how many unique tags are present in training data\n",
        "tags = []\n",
        "for i in train_tagged_words:\n",
        "  if i[1] not in tags:\n",
        "    tags.append(i[1])\n",
        "print(\"Total tags:\")\n",
        "print(len(tags))\n",
        "print(\"All tags:\")\n",
        "print(tags)"
      ]
    },
    {
      "cell_type": "code",
      "execution_count": null,
      "metadata": {
        "id": "uRZMf0cBaHiD"
      },
      "outputs": [],
      "source": [
        "# check total words in vocabulary\n",
        "vocab = []\n",
        "for i in train_tagged_words:\n",
        "  if i[0] not in vocab:\n",
        "    vocab.append(i[0])\n",
        "print(\"Total vocab:\")\n",
        "print(len(vocab))\n",
        "print(\"All vocab:\")\n",
        "print(vocab)"
      ]
    },
    {
      "cell_type": "markdown",
      "metadata": {
        "id": "nIQWMF9NaO0C"
      },
      "source": [
        "Define Emission Probability and Transition Probability"
      ]
    },
    {
      "cell_type": "code",
      "execution_count": null,
      "metadata": {
        "id": "5bb_eWXraMtC"
      },
      "outputs": [],
      "source": [
        "# compute Emission Probability\n",
        "def word_given_tag(word, tag, train_bag = train_tagged_words):\n",
        "    tag_list = [pair for pair in train_bag if pair[1]==tag]\n",
        "    count_tag = len(tag_list)#total number of times the passed tag occurred in train_bag\n",
        "    w_given_tag_list = [pair[0] for pair in tag_list if pair[0]==word]\n",
        "#now calculate the total number of times the passed word occurred as the passed tag.\n",
        "    count_w_given_tag = len(w_given_tag_list)\n",
        "    return (count_w_given_tag, count_tag)\n",
        "# compute  Transition Probability\n",
        "def t2_given_t1(t2, t1, train_bag = train_tagged_words):\n",
        "    tags = [pair[1] for pair in train_bag]\n",
        "    count_t1 = len([t for t in tags if t==t1])\n",
        "    count_t2_t1 = 0\n",
        "    for index in range(len(tags)-1):\n",
        "        if tags[index]==t1 and tags[index+1] == t2:\n",
        "            count_t2_t1 += 1\n",
        "    return (count_t2_t1, count_t1)"
      ]
    },
    {
      "cell_type": "code",
      "execution_count": null,
      "metadata": {
        "id": "qt4zOEGzaVc6"
      },
      "outputs": [],
      "source": [
        "# creating t x t transition matrix of tags, t= no of tags\n",
        "# Matrix(i, j) represents P(jth tag after the ith tag)\n",
        "tags_matrix = np.zeros((len(tags), len(tags)), dtype='float32')\n",
        "for i, t1 in enumerate(list(tags)):\n",
        "    for j, t2 in enumerate(list(tags)):\n",
        "        tags_matrix[i, j] = t2_given_t1(t2, t1)[0]/t2_given_t1(t2, t1)[1]"
      ]
    },
    {
      "cell_type": "code",
      "execution_count": null,
      "metadata": {
        "id": "Ys8aM68UaZoN"
      },
      "outputs": [],
      "source": [
        "print(tags_matrix)"
      ]
    },
    {
      "cell_type": "code",
      "execution_count": null,
      "metadata": {
        "id": "D9qPxCoFabzg"
      },
      "outputs": [],
      "source": [
        "# convert the matrix to a dataframe for better readability\n",
        "#the table is same as the transition table shown in section 3 of article\n",
        "tags_df = pd.DataFrame(tags_matrix, columns = list(tags), index=list(tags))\n",
        "print(tags_df)"
      ]
    },
    {
      "cell_type": "markdown",
      "metadata": {
        "id": "3GpZfyVNagZC"
      },
      "source": [
        "Define Viterbi Algorithm"
      ]
    },
    {
      "cell_type": "code",
      "execution_count": null,
      "metadata": {
        "id": "IE0Ht_8QafWI"
      },
      "outputs": [],
      "source": [
        "def Viterbi(words, train_bag = train_tagged_words):\n",
        "    state = []\n",
        "    T = list(set([pair[1] for pair in train_bag]))\n",
        "\n",
        "    for key, word in enumerate(words):\n",
        "        #initialise list of probability column for a given observation\n",
        "        p = []\n",
        "        for tag in T:\n",
        "            if key == 0:\n",
        "                transition_p = 0\n",
        "            else:\n",
        "                transition_p = tags_df.loc[state[-1], tag]\n",
        "\n",
        "            # compute emission and state probabilities\n",
        "            emission_p = word_given_tag(words[key], tag)[0]/word_given_tag(words[key], tag)[1]\n",
        "            state_probability = emission_p * transition_p\n",
        "            p.append(state_probability)\n",
        "\n",
        "        pmax = max(p)\n",
        "        # getting state for which probability is maximum\n",
        "        state_max = T[p.index(pmax)]\n",
        "        state.append(state_max)\n",
        "    return list(zip(words, state))"
      ]
    },
    {
      "cell_type": "markdown",
      "metadata": {
        "id": "uozYTbT_apEa"
      },
      "source": [
        "Create Test set"
      ]
    },
    {
      "cell_type": "code",
      "execution_count": null,
      "metadata": {
        "id": "gsxidZ7BarAP"
      },
      "outputs": [],
      "source": [
        "test_run = test_tagged_words\n",
        "print(len(test_run))\n",
        "# list of tagged words\n",
        "test_seq = [tuple(i) for i in test_tagged_words]\n",
        "print(\"Test sentences:\")\n",
        "print(test_seq)\n",
        "# list of untagged words\n",
        "test_words = [tup[0] for tup in test_seq]"
      ]
    },
    {
      "cell_type": "markdown",
      "metadata": {
        "id": "-qWNr3FpatoO"
      },
      "source": [
        "Predict the tags for test set using Viterbi algorithm"
      ]
    },
    {
      "cell_type": "code",
      "execution_count": null,
      "metadata": {
        "id": "ovQ2OOOParxs"
      },
      "outputs": [],
      "source": [
        "#Test 10 sentences to check the accuracy as testing the whole training set takes huge amount of time\n",
        "start = time.time()\n",
        "tagged_seq = Viterbi(test_words)\n",
        "end = time.time()\n",
        "difference = end-start\n",
        "print(\"Predicted sequence:\")\n",
        "print(tagged_seq)\n",
        "print(\"Predicted sequence lengh:\")\n",
        "print(len(tagged_seq) )\n",
        "print(tagged_seq[-10:])\n",
        "print(\"Time taken in seconds: \", difference)"
      ]
    },
    {
      "cell_type": "markdown",
      "metadata": {
        "id": "HuRNbBuFa2F6"
      },
      "source": [
        "Calculate Accuracy"
      ]
    },
    {
      "cell_type": "code",
      "execution_count": null,
      "metadata": {
        "id": "wieJk85ia0tZ"
      },
      "outputs": [],
      "source": [
        "# accuracy\n",
        "check = [i for i, j in zip(tagged_seq, test_seq) if i == j]\n",
        "print(check)\n",
        "accuracy = len(check)/len(tagged_seq)\n",
        "print('Viterbi Algorithm Accuracy: ',accuracy*100)"
      ]
    },
    {
      "cell_type": "code",
      "source": [
        "res = [(i[0], i[1], j[1]) for i, j in zip(tagged_seq, test_seq) if i[0] == j[0]]\n",
        "with open(\"res.txt\", \"w\") as f:\n",
        "  for i in res:\n",
        "    string = \"\\t\".join(i)\n",
        "    f.write(string+\"\\n\")"
      ],
      "metadata": {
        "id": "lYp4Doc7IJC5"
      },
      "execution_count": null,
      "outputs": []
    }
  ],
  "metadata": {
    "colab": {
      "provenance": [],
      "include_colab_link": true
    },
    "kernelspec": {
      "display_name": "Python 3",
      "name": "python3"
    },
    "language_info": {
      "name": "python"
    }
  },
  "nbformat": 4,
  "nbformat_minor": 0
}